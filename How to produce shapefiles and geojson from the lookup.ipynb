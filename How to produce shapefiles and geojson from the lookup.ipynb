{
 "cells": [
  {
   "cell_type": "markdown",
   "metadata": {},
   "source": [
    "# How to use the lookup file\n",
    "\n",
    "This documentation runs through how to use the`lad_hmcts_region_lookup.csv` lookup to create shapefiles, geojson and topojson for use in mapping and other geospacial analysis"
   ]
  },
  {
   "cell_type": "markdown",
   "metadata": {
    "collapsed": true
   },
   "source": [
    "HMCTS regions are just groups of local authorities.  `lad_hmcts_region_lookup.csv` contains the correspondence between the two.\n",
    "\n",
    "To create shapefiles of the regions, we just need to merge local authorities into wider regions.  To do this we will use the following workflow:\n",
    "\n",
    "- Local authority shapefiles from ONS or Ordnance Survey -> PostGIS database table\n",
    "- `lad_hmcts_region_lookup.csv` -> PostGIS database table\n",
    "- Spatial SQL statement to merge local authorities into a new table containing hmcts regions\n",
    "- Export from Postgres to HMCTS regions shapefiles\n",
    "- Convert HMCTS regions to geojson and simplify using `ogr2ogr`\n",
    "- Convert geojson to topojson using `topojson`\n",
    "\n",
    "It is possible that the lookup may need to be updated in future.  It uses Local Authority District definitions from 2016.  If these are updated in future, the lookup may need to be updated.\n",
    "\n",
    "Source data of Local Authority Disticts (LADs): Ordnance Survey Boundary Line https://www.ordnancesurvey.co.uk/opendatadownload/products.html#BDLINE\n",
    "Alternative source data: http://geoportal.statistics.gov.uk/datasets/local-authority-districts-december-2016-full-clipped-boundaries-in-great-britain\n",
    "\n",
    "Source data from HMCTS: https://jac.judiciary.gov.uk/sites/default/files/sync/application_selection/map-uk-courts-regions-hmcts-march2012.pdf  \n",
    "\n",
    "In the following scripts we assume these are saved and unzipped to the working directory.\n",
    "\n",
    "By overlaying the HMCTS pdf above on a map of the local authorities, we were able to produce the lookup. \n",
    "\n",
    "See the image [here](https://github.com/moj-analytical-services/lookup_hmcts_regions/blob/master/pics/map-uk-courts-regions-hmcts-march2012.png) for proof that the lookup is correct."
   ]
  },
  {
   "cell_type": "code",
   "execution_count": null,
   "metadata": {
    "collapsed": true
   },
   "outputs": [],
   "source": [
    "import pandas as pd"
   ]
  },
  {
   "cell_type": "code",
   "execution_count": null,
   "metadata": {
    "collapsed": true
   },
   "outputs": [],
   "source": [
    "# Load lookup\n",
    "lad_hmcts_region_lookup = pd.read_csv(\"lad_hmcts_region_lookup.csv\", encoding=\"utf-8\")"
   ]
  },
  {
   "cell_type": "code",
   "execution_count": null,
   "metadata": {
    "collapsed": true
   },
   "outputs": [],
   "source": [
    "Write shapefiles to postgres database"
   ]
  },
  {
   "cell_type": "code",
   "execution_count": null,
   "metadata": {
    "collapsed": true
   },
   "outputs": [],
   "source": [
    "%%bash \n",
    "shp2pgsql -I -s 27700 lad/Local_Authority_Districts_December_2016_Full_Clipped_Boundaries_in_Great_Britain.shp public.las_ons | psql -d postgres"
   ]
  },
  {
   "cell_type": "code",
   "execution_count": null,
   "metadata": {
    "collapsed": true
   },
   "outputs": [],
   "source": [
    "%%bash \n",
    "shp2pgsql -I -s 27700 bdline/Data/GB/district_borough_unitary_ward_region.shp public.las_os | psql -d postgres"
   ]
  },
  {
   "cell_type": "code",
   "execution_count": null,
   "metadata": {
    "collapsed": true
   },
   "outputs": [],
   "source": [
    "import psycopg2\n",
    "con_string = \"host='localhost' dbname='postgres' user='robinlinacre' password=''\"\n",
    "conn = psycopg2.connect(con_string)\n",
    "cursor = conn.cursor()\n",
    "\n",
    "from sqlalchemy import create_engine\n",
    "engine = create_engine('postgresql://robinlinacre:@localhost:5432/postgres') \n",
    "lad_hmcts_region_lookup.to_sql(\"lad_hmcts_region_lookup\", engine, index=False, if_exists=\"replace\")"
   ]
  },
  {
   "cell_type": "code",
   "execution_count": null,
   "metadata": {
    "collapsed": true
   },
   "outputs": [],
   "source": [
    "# Spatial query that aggregates LAs to create regions\n",
    "sql = \"\"\"\n",
    "create table hmcts_regions as\n",
    "select st_union(ST_snaptogrid(geom,0.0001)), hmcts_region\n",
    "from las_ons as shp\n",
    "left join lad_hmcts_region_lookup as l\n",
    "on shp.lad16cd = l.lad16cd_code\n",
    "group by hmcts_region\n",
    "\"\"\"\n",
    "cursor.execute(sql)\n",
    "conn.commit()"
   ]
  },
  {
   "cell_type": "markdown",
   "metadata": {},
   "source": [
    "Write postgres data to shapefile on disk"
   ]
  },
  {
   "cell_type": "code",
   "execution_count": null,
   "metadata": {},
   "outputs": [],
   "source": [
    "%%bash\n",
    "pgsql2shp -f shapefiles/hmcts_regions -h localhost -u robinlinacre postgres \"SELECT * from hmcts_regions\""
   ]
  },
  {
   "cell_type": "markdown",
   "metadata": {},
   "source": [
    "Convert shapefiles into geojson and topojson"
   ]
  },
  {
   "cell_type": "code",
   "execution_count": null,
   "metadata": {},
   "outputs": [],
   "source": [
    "%%bash\n",
    "ogr2ogr -t_srs WGS84  -f GeoJSON   geojson/hmcts_regions.geojson   shapefiles/hmcts_regions.shp -simplify 100\n",
    "topojson -o topojson/hmcts_regions.topojson geojson/hmcts_regions.geojson --simplify-proportion 0.04 -p"
   ]
  },
  {
   "cell_type": "code",
   "execution_count": null,
   "metadata": {
    "collapsed": true
   },
   "outputs": [],
   "source": []
  }
 ],
 "metadata": {
  "kernelspec": {
   "display_name": "Python 3",
   "language": "python",
   "name": "python3"
  },
  "language_info": {
   "codemirror_mode": {
    "name": "ipython",
    "version": 3
   },
   "file_extension": ".py",
   "mimetype": "text/x-python",
   "name": "python",
   "nbconvert_exporter": "python",
   "pygments_lexer": "ipython3",
   "version": "3.6.1"
  }
 },
 "nbformat": 4,
 "nbformat_minor": 2
}
