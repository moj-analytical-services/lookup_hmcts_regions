{
 "cells": [
  {
   "cell_type": "code",
   "execution_count": null,
   "metadata": {
    "collapsed": true
   },
   "outputs": [],
   "source": [
    "# Source data of Local Authority Disticts (LADs): Ordnance Survey Boundary Line https://www.ordnancesurvey.co.uk/opendatadownload/products.html#BDLINE\n",
    "# Alternative source data: http://geoportal.statistics.gov.uk/datasets/local-authority-districts-december-2016-full-clipped-boundaries-in-great-britain\n",
    "# Direct link: Shapefile\n",
    "# Source data from HMCTS: https://jac.judiciary.gov.uk/sites/default/files/sync/application_selection/map-uk-courts-regions-hmcts-march2012.pdf"
   ]
  },
  {
   "cell_type": "code",
   "execution_count": null,
   "metadata": {
    "collapsed": true
   },
   "outputs": [],
   "source": [
    "import pandas as pd\n",
    "from simpledbf import Dbf5\n",
    "\n",
    "dbf = Dbf5('district_borough_hmcts_regions.dbf')\n",
    "df = dbf.to_dataframe()"
   ]
  },
  {
   "cell_type": "code",
   "execution_count": null,
   "metadata": {
    "collapsed": true
   },
   "outputs": [],
   "source": [
    "df2 = df[[\"code\", \"hmcts\"]]"
   ]
  },
  {
   "cell_type": "code",
   "execution_count": null,
   "metadata": {
    "collapsed": true
   },
   "outputs": [],
   "source": [
    "df2.columns = [\"lad16cd_code\", \"hmcts_region\"]"
   ]
  },
  {
   "cell_type": "code",
   "execution_count": null,
   "metadata": {
    "collapsed": true
   },
   "outputs": [],
   "source": [
    "df2.to_csv(\"lad_hmcts_region_lookup.csv\", encoding=\"utf-8\", index=False)"
   ]
  },
  {
   "cell_type": "code",
   "execution_count": null,
   "metadata": {
    "collapsed": true
   },
   "outputs": [],
   "source": [
    "%%bash \n",
    "shp2pgsql -I -s 27700 lad/Local_Authority_Districts_December_2016_Full_Clipped_Boundaries_in_Great_Britain.shp public.las_ons | psql -d postgres"
   ]
  },
  {
   "cell_type": "code",
   "execution_count": null,
   "metadata": {
    "collapsed": true
   },
   "outputs": [],
   "source": [
    "%%bash \n",
    "shp2pgsql -I -s 27700 bdline/Data/GB/district_borough_unitary_ward_region.shp public.las_os | psql -d postgres"
   ]
  },
  {
   "cell_type": "code",
   "execution_count": null,
   "metadata": {
    "collapsed": true
   },
   "outputs": [],
   "source": [
    "import psycopg2\n",
    "con_string = \"host='localhost' dbname='postgres' user='robinlinacre' password=''\"\n",
    "conn = psycopg2.connect(con_string)\n",
    "cursor = conn.cursor()\n",
    "\n",
    "from sqlalchemy import create_engine\n",
    "engine = create_engine('postgresql://robinlinacre:@localhost:5432/postgres') \n",
    "df2.to_sql(\"lad_hmcts_region_lookup\", engine, index=False, if_exists=\"replace\")"
   ]
  },
  {
   "cell_type": "code",
   "execution_count": null,
   "metadata": {
    "collapsed": true
   },
   "outputs": [],
   "source": [
    "# How to add ONS or OS shapefiles to Postgres\n",
    "sql = \"\"\"\n",
    "create table hmcts_regions as\n",
    "select st_union(ST_snaptogrid(geom,0.0001)), hmcts_region\n",
    "from las_ons as shp\n",
    "left join lad_hmcts_region_lookup as l\n",
    "on shp.lad16cd = l.lad16cd_code\n",
    "group by hmcts_region\n",
    "\"\"\"\n",
    "cursor.execute(sql)\n",
    "conn.commit()"
   ]
  },
  {
   "cell_type": "code",
   "execution_count": null,
   "metadata": {},
   "outputs": [],
   "source": [
    "# Write postgres data to shapefile on disk\n",
    "%%bash\n",
    "pgsql2shp -f new_shapefiles -h localhost -u robinlinacre postgres \"SELECT * from hmcts_regions\""
   ]
  },
  {
   "cell_type": "code",
   "execution_count": null,
   "metadata": {},
   "outputs": [],
   "source": [
    "%%bash\n",
    "ogr2ogr -t_srs WGS84  -f GeoJSON   fixed.geojson   new_shapefiles.shp -simplify 100\n",
    "topojson -o fixed.topojson fixed.geojson --simplify-proportion 0.04 -p"
   ]
  },
  {
   "cell_type": "code",
   "execution_count": null,
   "metadata": {
    "collapsed": true
   },
   "outputs": [],
   "source": []
  }
 ],
 "metadata": {
  "kernelspec": {
   "display_name": "Python 3",
   "language": "python",
   "name": "python3"
  },
  "language_info": {
   "codemirror_mode": {
    "name": "ipython",
    "version": 3
   },
   "file_extension": ".py",
   "mimetype": "text/x-python",
   "name": "python",
   "nbconvert_exporter": "python",
   "pygments_lexer": "ipython3",
   "version": "3.6.1"
  }
 },
 "nbformat": 4,
 "nbformat_minor": 2
}
